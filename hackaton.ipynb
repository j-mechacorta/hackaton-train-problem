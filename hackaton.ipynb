{
 "cells": [
  {
   "cell_type": "code",
   "execution_count": 1,
   "id": "36a3557f-52c1-46f8-aa3f-90cacf7116f5",
   "metadata": {},
   "outputs": [],
   "source": [
    "import pandas as pd"
   ]
  },
  {
   "cell_type": "code",
   "execution_count": 2,
   "id": "52d395dd-e143-48f5-8a22-52d4fc458320",
   "metadata": {},
   "outputs": [],
   "source": [
    "survey = pd.read_csv(\"Surveydata_test.csv\")"
   ]
  },
  {
   "cell_type": "code",
   "execution_count": 6,
   "id": "66deee6e-b4ee-49ac-9e56-ca02444ce2cc",
   "metadata": {},
   "outputs": [
    {
     "name": "stdout",
     "output_type": "stream",
     "text": [
      "<class 'pandas.core.frame.DataFrame'>\n",
      "RangeIndex: 35602 entries, 0 to 35601\n",
      "Data columns (total 16 columns):\n",
      " #   Column                   Non-Null Count  Dtype \n",
      "---  ------                   --------------  ----- \n",
      " 0   ID                       35602 non-null  int64 \n",
      " 1   Seat_Comfort             35580 non-null  object\n",
      " 2   Seat_Class               35602 non-null  object\n",
      " 3   Arrival_Time_Convenient  32277 non-null  object\n",
      " 4   Catering                 32245 non-null  object\n",
      " 5   Platform_Location        35590 non-null  object\n",
      " 6   Onboard_Wifi_Service     35590 non-null  object\n",
      " 7   Onboard_Entertainment    35594 non-null  object\n",
      " 8   Online_Support           35576 non-null  object\n",
      " 9   Ease_of_Online_Booking   35584 non-null  object\n",
      " 10  Onboard_Service          32730 non-null  object\n",
      " 11  Legroom                  35577 non-null  object\n",
      " 12  Baggage_Handling         35562 non-null  object\n",
      " 13  CheckIn_Service          35580 non-null  object\n",
      " 14  Cleanliness              35600 non-null  object\n",
      " 15  Online_Boarding          35600 non-null  object\n",
      "dtypes: int64(1), object(15)\n",
      "memory usage: 4.3+ MB\n"
     ]
    }
   ],
   "source": [
    "survey.info()"
   ]
  },
  {
   "cell_type": "code",
   "execution_count": 7,
   "id": "82641f56-4f89-4e0d-94c1-b85ab5e1d3d2",
   "metadata": {},
   "outputs": [
    {
     "data": {
      "text/plain": [
       "ID                            0\n",
       "Seat_Comfort                 22\n",
       "Seat_Class                    0\n",
       "Arrival_Time_Convenient    3325\n",
       "Catering                   3357\n",
       "Platform_Location            12\n",
       "Onboard_Wifi_Service         12\n",
       "Onboard_Entertainment         8\n",
       "Online_Support               26\n",
       "Ease_of_Online_Booking       18\n",
       "Onboard_Service            2872\n",
       "Legroom                      25\n",
       "Baggage_Handling             40\n",
       "CheckIn_Service              22\n",
       "Cleanliness                   2\n",
       "Online_Boarding               2\n",
       "dtype: int64"
      ]
     },
     "execution_count": 7,
     "metadata": {},
     "output_type": "execute_result"
    }
   ],
   "source": [
    "survey.isnull().sum()"
   ]
  },
  {
   "cell_type": "code",
   "execution_count": null,
   "id": "d0226ddb-8a1d-403e-9585-5a574501dcd7",
   "metadata": {},
   "outputs": [],
   "source": []
  }
 ],
 "metadata": {
  "kernelspec": {
   "display_name": "pyspark322",
   "language": "python",
   "name": "pyspark322"
  },
  "language_info": {
   "codemirror_mode": {
    "name": "ipython",
    "version": 3
   },
   "file_extension": ".py",
   "mimetype": "text/x-python",
   "name": "python",
   "nbconvert_exporter": "python",
   "pygments_lexer": "ipython3",
   "version": "3.10.6"
  }
 },
 "nbformat": 4,
 "nbformat_minor": 5
}
